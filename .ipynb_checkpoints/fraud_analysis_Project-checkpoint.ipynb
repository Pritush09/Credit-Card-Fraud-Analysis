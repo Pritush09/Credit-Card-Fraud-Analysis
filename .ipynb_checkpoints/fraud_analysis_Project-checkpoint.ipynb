{
 "cells": [
  {
   "cell_type": "code",
   "execution_count": 1,
   "id": "53d04d20",
   "metadata": {
    "tags": []
   },
   "outputs": [],
   "source": [
    "import numpy as np\n",
    "import pandas as pd"
   ]
  },
  {
   "cell_type": "code",
   "execution_count": 51,
   "id": "ed1456ea",
   "metadata": {
    "tags": []
   },
   "outputs": [],
   "source": [
    "df = pd.read_csv(\"Fraud.csv\",usecols=['type', 'amount', 'nameOrig', 'oldbalanceOrg', 'newbalanceOrig',\n",
    "       'nameDest', 'oldbalanceDest', 'newbalanceDest', 'isFraud',\n",
    "       'isFlaggedFraud'])"
   ]
  },
  {
   "cell_type": "code",
   "execution_count": 52,
   "id": "1adcfddb",
   "metadata": {
    "tags": []
   },
   "outputs": [
    {
     "data": {
      "text/plain": [
       "((6362620, 10), 6362620)"
      ]
     },
     "execution_count": 52,
     "metadata": {},
     "output_type": "execute_result"
    }
   ],
   "source": [
    "df.shape , 6362620"
   ]
  },
  {
   "cell_type": "code",
   "execution_count": 53,
   "id": "45e5453a",
   "metadata": {
    "tags": []
   },
   "outputs": [],
   "source": [
    "df = df.reset_index()\n",
    "df = df.drop(columns=['index'])"
   ]
  },
  {
   "cell_type": "code",
   "execution_count": 54,
   "id": "5dc8c0e3",
   "metadata": {
    "tags": []
   },
   "outputs": [
    {
     "data": {
      "text/html": [
       "<div>\n",
       "<style scoped>\n",
       "    .dataframe tbody tr th:only-of-type {\n",
       "        vertical-align: middle;\n",
       "    }\n",
       "\n",
       "    .dataframe tbody tr th {\n",
       "        vertical-align: top;\n",
       "    }\n",
       "\n",
       "    .dataframe thead th {\n",
       "        text-align: right;\n",
       "    }\n",
       "</style>\n",
       "<table border=\"1\" class=\"dataframe\">\n",
       "  <thead>\n",
       "    <tr style=\"text-align: right;\">\n",
       "      <th></th>\n",
       "      <th>type</th>\n",
       "      <th>amount</th>\n",
       "      <th>nameOrig</th>\n",
       "      <th>oldbalanceOrg</th>\n",
       "      <th>newbalanceOrig</th>\n",
       "      <th>nameDest</th>\n",
       "      <th>oldbalanceDest</th>\n",
       "      <th>newbalanceDest</th>\n",
       "      <th>isFraud</th>\n",
       "      <th>isFlaggedFraud</th>\n",
       "    </tr>\n",
       "  </thead>\n",
       "  <tbody>\n",
       "    <tr>\n",
       "      <th>0</th>\n",
       "      <td>PAYMENT</td>\n",
       "      <td>9839.64</td>\n",
       "      <td>C1231006815</td>\n",
       "      <td>170136.0</td>\n",
       "      <td>160296.36</td>\n",
       "      <td>M1979787155</td>\n",
       "      <td>0.0</td>\n",
       "      <td>0.0</td>\n",
       "      <td>0</td>\n",
       "      <td>0</td>\n",
       "    </tr>\n",
       "    <tr>\n",
       "      <th>1</th>\n",
       "      <td>PAYMENT</td>\n",
       "      <td>1864.28</td>\n",
       "      <td>C1666544295</td>\n",
       "      <td>21249.0</td>\n",
       "      <td>19384.72</td>\n",
       "      <td>M2044282225</td>\n",
       "      <td>0.0</td>\n",
       "      <td>0.0</td>\n",
       "      <td>0</td>\n",
       "      <td>0</td>\n",
       "    </tr>\n",
       "    <tr>\n",
       "      <th>2</th>\n",
       "      <td>TRANSFER</td>\n",
       "      <td>181.00</td>\n",
       "      <td>C1305486145</td>\n",
       "      <td>181.0</td>\n",
       "      <td>0.00</td>\n",
       "      <td>C553264065</td>\n",
       "      <td>0.0</td>\n",
       "      <td>0.0</td>\n",
       "      <td>1</td>\n",
       "      <td>0</td>\n",
       "    </tr>\n",
       "    <tr>\n",
       "      <th>3</th>\n",
       "      <td>CASH_OUT</td>\n",
       "      <td>181.00</td>\n",
       "      <td>C840083671</td>\n",
       "      <td>181.0</td>\n",
       "      <td>0.00</td>\n",
       "      <td>C38997010</td>\n",
       "      <td>21182.0</td>\n",
       "      <td>0.0</td>\n",
       "      <td>1</td>\n",
       "      <td>0</td>\n",
       "    </tr>\n",
       "    <tr>\n",
       "      <th>4</th>\n",
       "      <td>PAYMENT</td>\n",
       "      <td>11668.14</td>\n",
       "      <td>C2048537720</td>\n",
       "      <td>41554.0</td>\n",
       "      <td>29885.86</td>\n",
       "      <td>M1230701703</td>\n",
       "      <td>0.0</td>\n",
       "      <td>0.0</td>\n",
       "      <td>0</td>\n",
       "      <td>0</td>\n",
       "    </tr>\n",
       "  </tbody>\n",
       "</table>\n",
       "</div>"
      ],
      "text/plain": [
       "       type    amount     nameOrig  oldbalanceOrg  newbalanceOrig  \\\n",
       "0   PAYMENT   9839.64  C1231006815       170136.0       160296.36   \n",
       "1   PAYMENT   1864.28  C1666544295        21249.0        19384.72   \n",
       "2  TRANSFER    181.00  C1305486145          181.0            0.00   \n",
       "3  CASH_OUT    181.00   C840083671          181.0            0.00   \n",
       "4   PAYMENT  11668.14  C2048537720        41554.0        29885.86   \n",
       "\n",
       "      nameDest  oldbalanceDest  newbalanceDest  isFraud  isFlaggedFraud  \n",
       "0  M1979787155             0.0             0.0        0               0  \n",
       "1  M2044282225             0.0             0.0        0               0  \n",
       "2   C553264065             0.0             0.0        1               0  \n",
       "3    C38997010         21182.0             0.0        1               0  \n",
       "4  M1230701703             0.0             0.0        0               0  "
      ]
     },
     "execution_count": 54,
     "metadata": {},
     "output_type": "execute_result"
    }
   ],
   "source": [
    "df.head()"
   ]
  },
  {
   "cell_type": "markdown",
   "id": "da277888",
   "metadata": {},
   "source": [
    "step - maps a unit of time in the real world. In this case 1 step is 1 hour of time. Total steps 744 (30 days simulation).\n",
    "\n",
    "type - CASH-IN, CASH-OUT, DEBIT, PAYMENT and TRANSFER.\n",
    "\n",
    "amount - amount of the transaction in local currency.\n",
    "\n",
    "nameOrig - customer who started the transaction\n",
    "\n",
    "oldbalanceOrg - initial balance before the transaction\n",
    "\n",
    "newbalanceOrig - new balance after the transaction\n",
    "\n",
    "nameDest - customer who is the recipient of the transaction\n",
    "\n",
    "oldbalanceDest - initial balance recipient before the transaction. Note that there is not information for customers that start with M (Merchants).\n",
    "\n",
    "newbalanceDest - new balance recipient after the transaction. Note that there is not information for customers that start with M (Merchants).\n",
    "\n",
    "isFraud - This is the transactions made by the fraudulent agents inside the simulation. In this specific dataset the fraudulent behavior of the agents aims to profit by taking control or customers accounts and try to empty the funds by transferring to another account and then cashing out of the system.\n",
    "\n",
    "isFlaggedFraud - The business model aims to control massive transfers from one account to another and flags illegal attempts. An illegal attempt in this dataset is an attempt to transfer more than 200.000 in a single transaction."
   ]
  },
  {
   "cell_type": "markdown",
   "id": "d93b567d-b6d3-4f35-9aea-371bc7ab9b4c",
   "metadata": {},
   "source": [
    "# Data Cleaning"
   ]
  },
  {
   "cell_type": "code",
   "execution_count": 57,
   "id": "c9536176-e4bf-47bc-95e5-a2b907fd2918",
   "metadata": {
    "tags": []
   },
   "outputs": [
    {
     "name": "stdout",
     "output_type": "stream",
     "text": [
      "<class 'pandas.core.frame.DataFrame'>\n",
      "RangeIndex: 6362620 entries, 0 to 6362619\n",
      "Data columns (total 10 columns):\n",
      " #   Column          Dtype   \n",
      "---  ------          -----   \n",
      " 0   type            category\n",
      " 1   amount          float32 \n",
      " 2   nameOrig        object  \n",
      " 3   oldbalanceOrg   float32 \n",
      " 4   newbalanceOrig  float32 \n",
      " 5   nameDest        object  \n",
      " 6   oldbalanceDest  float32 \n",
      " 7   newbalanceDest  float32 \n",
      " 8   isFraud         int8    \n",
      " 9   isFlaggedFraud  int8    \n",
      "dtypes: category(1), float32(5), int8(2), object(2)\n",
      "memory usage: 236.6+ MB\n"
     ]
    }
   ],
   "source": [
    "df.info()"
   ]
  },
  {
   "cell_type": "code",
   "execution_count": 56,
   "id": "fc671c0f-ea33-4180-b808-a2eb3d3fb411",
   "metadata": {
    "tags": []
   },
   "outputs": [],
   "source": [
    "# THis is for reducing the memory usage and to peform any operation faster\n",
    "\n",
    "df['amount'] = df.amount.astype(dtype=np.float32)\n",
    "df['oldbalanceOrg'] = df.oldbalanceOrg.astype(dtype=np.float32)\n",
    "df['newbalanceOrig'] = df.newbalanceOrig.astype(dtype=np.float32)\n",
    "df[\"oldbalanceDest\"] = df.oldbalanceDest.astype(dtype=np.float32)\n",
    "df[\"newbalanceDest\"] = df.newbalanceDest.astype(np.float32)\n",
    "# df.step = df.step.astype(np.int16)\n",
    "df.isFraud = df.isFraud.astype(np.int8)\n",
    "df.isFlaggedFraud = df.isFlaggedFraud.astype(np.int8)\n",
    "df.type = df.type.astype(\"category\")"
   ]
  },
  {
   "cell_type": "code",
   "execution_count": 103,
   "id": "b797dfc3",
   "metadata": {},
   "outputs": [],
   "source": [
    "# AS There is no onformation for the merchants so we have to drop them "
   ]
  },
  {
   "cell_type": "code",
   "execution_count": 58,
   "id": "2bd67ea2-b9e3-408a-9b6e-6f6f74d7fce9",
   "metadata": {
    "tags": []
   },
   "outputs": [
    {
     "data": {
      "text/html": [
       "<div>\n",
       "<style scoped>\n",
       "    .dataframe tbody tr th:only-of-type {\n",
       "        vertical-align: middle;\n",
       "    }\n",
       "\n",
       "    .dataframe tbody tr th {\n",
       "        vertical-align: top;\n",
       "    }\n",
       "\n",
       "    .dataframe thead th {\n",
       "        text-align: right;\n",
       "    }\n",
       "</style>\n",
       "<table border=\"1\" class=\"dataframe\">\n",
       "  <thead>\n",
       "    <tr style=\"text-align: right;\">\n",
       "      <th></th>\n",
       "      <th>type</th>\n",
       "      <th>amount</th>\n",
       "      <th>nameOrig</th>\n",
       "      <th>oldbalanceOrg</th>\n",
       "      <th>newbalanceOrig</th>\n",
       "      <th>nameDest</th>\n",
       "      <th>oldbalanceDest</th>\n",
       "      <th>newbalanceDest</th>\n",
       "      <th>isFraud</th>\n",
       "      <th>isFlaggedFraud</th>\n",
       "    </tr>\n",
       "  </thead>\n",
       "  <tbody>\n",
       "  </tbody>\n",
       "</table>\n",
       "</div>"
      ],
      "text/plain": [
       "Empty DataFrame\n",
       "Columns: [type, amount, nameOrig, oldbalanceOrg, newbalanceOrig, nameDest, oldbalanceDest, newbalanceDest, isFraud, isFlaggedFraud]\n",
       "Index: []"
      ]
     },
     "execution_count": 58,
     "metadata": {},
     "output_type": "execute_result"
    }
   ],
   "source": [
    "df[df['nameOrig'].str.startswith(\"M\")]\n",
    "# No Merchant present in the nameorig column"
   ]
  },
  {
   "cell_type": "code",
   "execution_count": 59,
   "id": "a327741d",
   "metadata": {
    "tags": []
   },
   "outputs": [
    {
     "name": "stdout",
     "output_type": "stream",
     "text": [
      "No. of merchant present in our data (about whom we dont have any data):  2151495\n"
     ]
    }
   ],
   "source": [
    "count = 0\n",
    "for name in df.nameDest.values:\n",
    "    if 'M' in name:\n",
    "        count = count +1\n",
    "print(\"No. of merchant present in our data (about whom we dont have any data): \",count)"
   ]
  },
  {
   "cell_type": "code",
   "execution_count": 60,
   "id": "aa8e50ba",
   "metadata": {
    "tags": []
   },
   "outputs": [
    {
     "data": {
      "text/plain": [
       "(6362620, 10)"
      ]
     },
     "execution_count": 60,
     "metadata": {},
     "output_type": "execute_result"
    }
   ],
   "source": [
    "df.shape"
   ]
  },
  {
   "cell_type": "code",
   "execution_count": 61,
   "id": "9e998ff1",
   "metadata": {
    "tags": []
   },
   "outputs": [],
   "source": [
    "merchant_indexs =  df[df['nameDest'].str.startswith(\"M\")].index"
   ]
  },
  {
   "cell_type": "code",
   "execution_count": 62,
   "id": "292d51cd",
   "metadata": {
    "tags": []
   },
   "outputs": [],
   "source": [
    "df_c = df.drop(merchant_indexs)"
   ]
  },
  {
   "cell_type": "code",
   "execution_count": 66,
   "id": "8ecc40ef",
   "metadata": {
    "tags": []
   },
   "outputs": [],
   "source": [
    "df_c = df_c.reset_index()"
   ]
  },
  {
   "cell_type": "code",
   "execution_count": 68,
   "id": "3e388551",
   "metadata": {
    "tags": []
   },
   "outputs": [],
   "source": [
    "df_c = df_c.drop(columns = ['index'])"
   ]
  },
  {
   "cell_type": "code",
   "execution_count": 71,
   "id": "d2affcc9",
   "metadata": {
    "tags": []
   },
   "outputs": [],
   "source": [
    "# df_c"
   ]
  },
  {
   "cell_type": "code",
   "execution_count": 70,
   "id": "04c46520",
   "metadata": {
    "tags": []
   },
   "outputs": [
    {
     "data": {
      "text/plain": [
       "(4211125, 10)"
      ]
     },
     "execution_count": 70,
     "metadata": {},
     "output_type": "execute_result"
    }
   ],
   "source": [
    "df_c.shape"
   ]
  },
  {
   "cell_type": "code",
   "execution_count": 8,
   "id": "d2e8a8af",
   "metadata": {},
   "outputs": [],
   "source": [
    "#https://www.analyticsvidhya.com/blog/2020/10/feature-selection-techniques-in-machine-learning/\n",
    "# just for remembering all the different methods"
   ]
  },
  {
   "cell_type": "code",
   "execution_count": 9,
   "id": "b9611794",
   "metadata": {},
   "outputs": [
    {
     "data": {
      "text/plain": [
       "type              0\n",
       "amount            0\n",
       "nameOrig          0\n",
       "oldbalanceOrg     0\n",
       "newbalanceOrig    0\n",
       "nameDest          0\n",
       "oldbalanceDest    0\n",
       "newbalanceDest    0\n",
       "isFraud           0\n",
       "isFlaggedFraud    0\n",
       "dtype: int64"
      ]
     },
     "execution_count": 9,
     "metadata": {},
     "output_type": "execute_result"
    }
   ],
   "source": [
    "df.isnull().sum()"
   ]
  },
  {
   "cell_type": "code",
   "execution_count": 10,
   "id": "c8645038",
   "metadata": {},
   "outputs": [
    {
     "data": {
      "text/plain": [
       "0"
      ]
     },
     "execution_count": 10,
     "metadata": {},
     "output_type": "execute_result"
    }
   ],
   "source": [
    "df.duplicated().sum()"
   ]
  },
  {
   "cell_type": "markdown",
   "id": "cf2d7256-5479-4b4d-9e92-4ca60f5fba4c",
   "metadata": {},
   "source": [
    "# EDA"
   ]
  },
  {
   "cell_type": "code",
   "execution_count": 76,
   "id": "321bdd44",
   "metadata": {
    "tags": []
   },
   "outputs": [
    {
     "data": {
      "text/plain": [
       "(0, 10)"
      ]
     },
     "execution_count": 76,
     "metadata": {},
     "output_type": "execute_result"
    }
   ],
   "source": [
    "df[(df.isFlaggedFraud == 1) & (df.isFraud == 0)].shape"
   ]
  },
  {
   "cell_type": "code",
   "execution_count": 88,
   "id": "ff2d817a-8d97-4e75-b0f7-f774999af25a",
   "metadata": {
    "tags": []
   },
   "outputs": [
    {
     "data": {
      "text/plain": [
       "(16, 10)"
      ]
     },
     "execution_count": 88,
     "metadata": {},
     "output_type": "execute_result"
    }
   ],
   "source": [
    "df[(df.isFlaggedFraud == 1) & (df.isFraud == 1)].shape"
   ]
  },
  {
   "cell_type": "code",
   "execution_count": 89,
   "id": "54c5114e-1d6e-4cb6-9321-4ccd05a2985e",
   "metadata": {
    "tags": []
   },
   "outputs": [
    {
     "data": {
      "text/html": [
       "<div>\n",
       "<style scoped>\n",
       "    .dataframe tbody tr th:only-of-type {\n",
       "        vertical-align: middle;\n",
       "    }\n",
       "\n",
       "    .dataframe tbody tr th {\n",
       "        vertical-align: top;\n",
       "    }\n",
       "\n",
       "    .dataframe thead th {\n",
       "        text-align: right;\n",
       "    }\n",
       "</style>\n",
       "<table border=\"1\" class=\"dataframe\">\n",
       "  <thead>\n",
       "    <tr style=\"text-align: right;\">\n",
       "      <th></th>\n",
       "      <th>type</th>\n",
       "      <th>amount</th>\n",
       "      <th>nameOrig</th>\n",
       "      <th>oldbalanceOrg</th>\n",
       "      <th>newbalanceOrig</th>\n",
       "      <th>nameDest</th>\n",
       "      <th>oldbalanceDest</th>\n",
       "      <th>newbalanceDest</th>\n",
       "      <th>isFraud</th>\n",
       "      <th>isFlaggedFraud</th>\n",
       "    </tr>\n",
       "  </thead>\n",
       "  <tbody>\n",
       "    <tr>\n",
       "      <th>2736446</th>\n",
       "      <td>TRANSFER</td>\n",
       "      <td>4.953893e+06</td>\n",
       "      <td>C728984460</td>\n",
       "      <td>4.953893e+06</td>\n",
       "      <td>4.953893e+06</td>\n",
       "      <td>C639921569</td>\n",
       "      <td>0.0</td>\n",
       "      <td>0.0</td>\n",
       "      <td>1</td>\n",
       "      <td>1</td>\n",
       "    </tr>\n",
       "    <tr>\n",
       "      <th>3247297</th>\n",
       "      <td>TRANSFER</td>\n",
       "      <td>1.343002e+06</td>\n",
       "      <td>C1100582606</td>\n",
       "      <td>1.343002e+06</td>\n",
       "      <td>1.343002e+06</td>\n",
       "      <td>C1147517658</td>\n",
       "      <td>0.0</td>\n",
       "      <td>0.0</td>\n",
       "      <td>1</td>\n",
       "      <td>1</td>\n",
       "    </tr>\n",
       "    <tr>\n",
       "      <th>3760288</th>\n",
       "      <td>TRANSFER</td>\n",
       "      <td>5.366244e+05</td>\n",
       "      <td>C1035541766</td>\n",
       "      <td>5.366244e+05</td>\n",
       "      <td>5.366244e+05</td>\n",
       "      <td>C1100697970</td>\n",
       "      <td>0.0</td>\n",
       "      <td>0.0</td>\n",
       "      <td>1</td>\n",
       "      <td>1</td>\n",
       "    </tr>\n",
       "    <tr>\n",
       "      <th>5563713</th>\n",
       "      <td>TRANSFER</td>\n",
       "      <td>4.892193e+06</td>\n",
       "      <td>C908544136</td>\n",
       "      <td>4.892193e+06</td>\n",
       "      <td>4.892193e+06</td>\n",
       "      <td>C891140444</td>\n",
       "      <td>0.0</td>\n",
       "      <td>0.0</td>\n",
       "      <td>1</td>\n",
       "      <td>1</td>\n",
       "    </tr>\n",
       "    <tr>\n",
       "      <th>5996407</th>\n",
       "      <td>TRANSFER</td>\n",
       "      <td>1.000000e+07</td>\n",
       "      <td>C689608084</td>\n",
       "      <td>1.958504e+07</td>\n",
       "      <td>1.958504e+07</td>\n",
       "      <td>C1392803603</td>\n",
       "      <td>0.0</td>\n",
       "      <td>0.0</td>\n",
       "      <td>1</td>\n",
       "      <td>1</td>\n",
       "    </tr>\n",
       "    <tr>\n",
       "      <th>5996409</th>\n",
       "      <td>TRANSFER</td>\n",
       "      <td>9.585040e+06</td>\n",
       "      <td>C452586515</td>\n",
       "      <td>1.958504e+07</td>\n",
       "      <td>1.958504e+07</td>\n",
       "      <td>C1109166882</td>\n",
       "      <td>0.0</td>\n",
       "      <td>0.0</td>\n",
       "      <td>1</td>\n",
       "      <td>1</td>\n",
       "    </tr>\n",
       "    <tr>\n",
       "      <th>6168499</th>\n",
       "      <td>TRANSFER</td>\n",
       "      <td>3.576297e+06</td>\n",
       "      <td>C193696150</td>\n",
       "      <td>3.576297e+06</td>\n",
       "      <td>3.576297e+06</td>\n",
       "      <td>C484597480</td>\n",
       "      <td>0.0</td>\n",
       "      <td>0.0</td>\n",
       "      <td>1</td>\n",
       "      <td>1</td>\n",
       "    </tr>\n",
       "    <tr>\n",
       "      <th>6205439</th>\n",
       "      <td>TRANSFER</td>\n",
       "      <td>3.538742e+05</td>\n",
       "      <td>C1684585475</td>\n",
       "      <td>3.538742e+05</td>\n",
       "      <td>3.538742e+05</td>\n",
       "      <td>C1770418982</td>\n",
       "      <td>0.0</td>\n",
       "      <td>0.0</td>\n",
       "      <td>1</td>\n",
       "      <td>1</td>\n",
       "    </tr>\n",
       "    <tr>\n",
       "      <th>6266413</th>\n",
       "      <td>TRANSFER</td>\n",
       "      <td>2.542664e+06</td>\n",
       "      <td>C786455622</td>\n",
       "      <td>2.542664e+06</td>\n",
       "      <td>2.542664e+06</td>\n",
       "      <td>C661958277</td>\n",
       "      <td>0.0</td>\n",
       "      <td>0.0</td>\n",
       "      <td>1</td>\n",
       "      <td>1</td>\n",
       "    </tr>\n",
       "    <tr>\n",
       "      <th>6281482</th>\n",
       "      <td>TRANSFER</td>\n",
       "      <td>1.000000e+07</td>\n",
       "      <td>C19004745</td>\n",
       "      <td>1.039904e+07</td>\n",
       "      <td>1.039904e+07</td>\n",
       "      <td>C1806199534</td>\n",
       "      <td>0.0</td>\n",
       "      <td>0.0</td>\n",
       "      <td>1</td>\n",
       "      <td>1</td>\n",
       "    </tr>\n",
       "    <tr>\n",
       "      <th>6281484</th>\n",
       "      <td>TRANSFER</td>\n",
       "      <td>3.990451e+05</td>\n",
       "      <td>C724693370</td>\n",
       "      <td>1.039904e+07</td>\n",
       "      <td>1.039904e+07</td>\n",
       "      <td>C1909486199</td>\n",
       "      <td>0.0</td>\n",
       "      <td>0.0</td>\n",
       "      <td>1</td>\n",
       "      <td>1</td>\n",
       "    </tr>\n",
       "    <tr>\n",
       "      <th>6296014</th>\n",
       "      <td>TRANSFER</td>\n",
       "      <td>3.441042e+06</td>\n",
       "      <td>C917414431</td>\n",
       "      <td>3.441042e+06</td>\n",
       "      <td>3.441042e+06</td>\n",
       "      <td>C1082139865</td>\n",
       "      <td>0.0</td>\n",
       "      <td>0.0</td>\n",
       "      <td>1</td>\n",
       "      <td>1</td>\n",
       "    </tr>\n",
       "    <tr>\n",
       "      <th>6351225</th>\n",
       "      <td>TRANSFER</td>\n",
       "      <td>3.171086e+06</td>\n",
       "      <td>C1892216157</td>\n",
       "      <td>3.171086e+06</td>\n",
       "      <td>3.171086e+06</td>\n",
       "      <td>C1308068787</td>\n",
       "      <td>0.0</td>\n",
       "      <td>0.0</td>\n",
       "      <td>1</td>\n",
       "      <td>1</td>\n",
       "    </tr>\n",
       "    <tr>\n",
       "      <th>6362460</th>\n",
       "      <td>TRANSFER</td>\n",
       "      <td>1.000000e+07</td>\n",
       "      <td>C2140038573</td>\n",
       "      <td>1.731626e+07</td>\n",
       "      <td>1.731626e+07</td>\n",
       "      <td>C1395467927</td>\n",
       "      <td>0.0</td>\n",
       "      <td>0.0</td>\n",
       "      <td>1</td>\n",
       "      <td>1</td>\n",
       "    </tr>\n",
       "    <tr>\n",
       "      <th>6362462</th>\n",
       "      <td>TRANSFER</td>\n",
       "      <td>7.316255e+06</td>\n",
       "      <td>C1869569059</td>\n",
       "      <td>1.731626e+07</td>\n",
       "      <td>1.731626e+07</td>\n",
       "      <td>C1861208726</td>\n",
       "      <td>0.0</td>\n",
       "      <td>0.0</td>\n",
       "      <td>1</td>\n",
       "      <td>1</td>\n",
       "    </tr>\n",
       "    <tr>\n",
       "      <th>6362584</th>\n",
       "      <td>TRANSFER</td>\n",
       "      <td>5.674548e+06</td>\n",
       "      <td>C992223106</td>\n",
       "      <td>5.674548e+06</td>\n",
       "      <td>5.674548e+06</td>\n",
       "      <td>C1366804249</td>\n",
       "      <td>0.0</td>\n",
       "      <td>0.0</td>\n",
       "      <td>1</td>\n",
       "      <td>1</td>\n",
       "    </tr>\n",
       "  </tbody>\n",
       "</table>\n",
       "</div>"
      ],
      "text/plain": [
       "             type        amount     nameOrig  oldbalanceOrg  newbalanceOrig  \\\n",
       "2736446  TRANSFER  4.953893e+06   C728984460   4.953893e+06    4.953893e+06   \n",
       "3247297  TRANSFER  1.343002e+06  C1100582606   1.343002e+06    1.343002e+06   \n",
       "3760288  TRANSFER  5.366244e+05  C1035541766   5.366244e+05    5.366244e+05   \n",
       "5563713  TRANSFER  4.892193e+06   C908544136   4.892193e+06    4.892193e+06   \n",
       "5996407  TRANSFER  1.000000e+07   C689608084   1.958504e+07    1.958504e+07   \n",
       "5996409  TRANSFER  9.585040e+06   C452586515   1.958504e+07    1.958504e+07   \n",
       "6168499  TRANSFER  3.576297e+06   C193696150   3.576297e+06    3.576297e+06   \n",
       "6205439  TRANSFER  3.538742e+05  C1684585475   3.538742e+05    3.538742e+05   \n",
       "6266413  TRANSFER  2.542664e+06   C786455622   2.542664e+06    2.542664e+06   \n",
       "6281482  TRANSFER  1.000000e+07    C19004745   1.039904e+07    1.039904e+07   \n",
       "6281484  TRANSFER  3.990451e+05   C724693370   1.039904e+07    1.039904e+07   \n",
       "6296014  TRANSFER  3.441042e+06   C917414431   3.441042e+06    3.441042e+06   \n",
       "6351225  TRANSFER  3.171086e+06  C1892216157   3.171086e+06    3.171086e+06   \n",
       "6362460  TRANSFER  1.000000e+07  C2140038573   1.731626e+07    1.731626e+07   \n",
       "6362462  TRANSFER  7.316255e+06  C1869569059   1.731626e+07    1.731626e+07   \n",
       "6362584  TRANSFER  5.674548e+06   C992223106   5.674548e+06    5.674548e+06   \n",
       "\n",
       "            nameDest  oldbalanceDest  newbalanceDest  isFraud  isFlaggedFraud  \n",
       "2736446   C639921569             0.0             0.0        1               1  \n",
       "3247297  C1147517658             0.0             0.0        1               1  \n",
       "3760288  C1100697970             0.0             0.0        1               1  \n",
       "5563713   C891140444             0.0             0.0        1               1  \n",
       "5996407  C1392803603             0.0             0.0        1               1  \n",
       "5996409  C1109166882             0.0             0.0        1               1  \n",
       "6168499   C484597480             0.0             0.0        1               1  \n",
       "6205439  C1770418982             0.0             0.0        1               1  \n",
       "6266413   C661958277             0.0             0.0        1               1  \n",
       "6281482  C1806199534             0.0             0.0        1               1  \n",
       "6281484  C1909486199             0.0             0.0        1               1  \n",
       "6296014  C1082139865             0.0             0.0        1               1  \n",
       "6351225  C1308068787             0.0             0.0        1               1  \n",
       "6362460  C1395467927             0.0             0.0        1               1  \n",
       "6362462  C1861208726             0.0             0.0        1               1  \n",
       "6362584  C1366804249             0.0             0.0        1               1  "
      ]
     },
     "execution_count": 89,
     "metadata": {},
     "output_type": "execute_result"
    }
   ],
   "source": [
    "df[(df.isFlaggedFraud == 1) & (df.isFraud == 1)]"
   ]
  },
  {
   "cell_type": "markdown",
   "id": "15161531-0017-4b49-971b-0693886d2801",
   "metadata": {},
   "source": [
    "* Above we can see that weherever there is true value for isflaggedfraud the transaction is also a fraud and the type of transaction is TRANSFER"
   ]
  },
  {
   "cell_type": "code",
   "execution_count": 82,
   "id": "071f7973-df49-486e-98de-15440b1302f7",
   "metadata": {
    "tags": []
   },
   "outputs": [
    {
     "data": {
      "text/plain": [
       "['TRANSFER', 'CASH_OUT']\n",
       "Categories (5, object): ['CASH_IN', 'CASH_OUT', 'DEBIT', 'PAYMENT', 'TRANSFER']"
      ]
     },
     "execution_count": 82,
     "metadata": {},
     "output_type": "execute_result"
    }
   ],
   "source": [
    "df[(df.isFlaggedFraud == 0) & (df.isFraud == 1)].type.unique()"
   ]
  },
  {
   "cell_type": "code",
   "execution_count": 90,
   "id": "c4542206-95d7-479a-b3be-fb264ac5570a",
   "metadata": {
    "tags": []
   },
   "outputs": [
    {
     "data": {
      "text/plain": [
       "(8197, 10)"
      ]
     },
     "execution_count": 90,
     "metadata": {},
     "output_type": "execute_result"
    }
   ],
   "source": [
    "df[(df.isFlaggedFraud == 0) & (df.isFraud == 1)].shape"
   ]
  },
  {
   "cell_type": "code",
   "execution_count": 87,
   "id": "97746a90-9f0b-4ddd-987a-7e034c5026b0",
   "metadata": {
    "tags": []
   },
   "outputs": [
    {
     "data": {
      "text/plain": [
       "(2770409, 10)"
      ]
     },
     "execution_count": 87,
     "metadata": {},
     "output_type": "execute_result"
    }
   ],
   "source": [
    "df[(df['type']=='TRANSFER') | (df['type'] == 'CASH_OUT')].shape"
   ]
  },
  {
   "cell_type": "markdown",
   "id": "37a4ec4e-fccf-46bf-badc-766bb3b08705",
   "metadata": {},
   "source": [
    "* here we could see the transaction type where there is fraudlent transaction is transferand cash_out and the distribution of fraud transaction is very less in the dataset which is also the case in real life"
   ]
  },
  {
   "cell_type": "code",
   "execution_count": 78,
   "id": "3179db32-2c61-4d5c-82e9-c14e67cbc000",
   "metadata": {
    "tags": []
   },
   "outputs": [
    {
     "data": {
      "text/plain": [
       "(6354407, 10)"
      ]
     },
     "execution_count": 78,
     "metadata": {},
     "output_type": "execute_result"
    }
   ],
   "source": [
    "df[(df.isFlaggedFraud == 0) & (df.isFraud == 0)].shape"
   ]
  },
  {
   "cell_type": "code",
   "execution_count": 79,
   "id": "6dc74ce7",
   "metadata": {
    "tags": []
   },
   "outputs": [
    {
     "name": "stderr",
     "output_type": "stream",
     "text": [
      "C:\\Users\\mynam\\AppData\\Local\\Temp\\ipykernel_8488\\731566514.py:3: FutureWarning: The default value of numeric_only in DataFrame.corr is deprecated. In a future version, it will default to False. Select only valid columns or specify the value of numeric_only to silence this warning.\n",
      "  sns.heatmap(df.corr())\n"
     ]
    },
    {
     "data": {
      "text/plain": [
       "<Axes: >"
      ]
     },
     "execution_count": 79,
     "metadata": {},
     "output_type": "execute_result"
    },
    {
     "data": {
      "image/png": "[encoded data removed]",
      "text/plain": [
       "<Figure size 640x480 with 2 Axes>"
      ]
     },
     "metadata": {},
     "output_type": "display_data"
    }
   ],
   "source": [
    "# importance = mutual_info_classif(X,y)\n",
    "import seaborn as sns\n",
    "sns.heatmap(df.corr())"
   ]
  },
  {
   "cell_type": "markdown",
   "id": "67b22192-2b19-4f76-ba29-b14cab596374",
   "metadata": {},
   "source": [
    "* Here we can see that the fraud part is mostly related to amount and isflaggedfraud which is also related to amount indirectly"
   ]
  },
  {
   "cell_type": "code",
   "execution_count": null,
   "id": "854b2d91",
   "metadata": {},
   "outputs": [],
   "source": []
  }
 ],
 "metadata": {
  "kernelspec": {
   "display_name": "Python 3 (ipykernel)",
   "language": "python",
   "name": "python3"
  },
  "language_info": {
   "codemirror_mode": {
    "name": "ipython",
    "version": 3
   },
   "file_extension": ".py",
   "mimetype": "text/x-python",
   "name": "python",
   "nbconvert_exporter": "python",
   "pygments_lexer": "ipython3",
   "version": "3.11.4"
  }
 },
 "nbformat": 4,
 "nbformat_minor": 5
}
